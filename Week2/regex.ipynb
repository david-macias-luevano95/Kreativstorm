{
 "cells": [
  {
   "attachments": {},
   "cell_type": "markdown",
   "metadata": {},
   "source": [
    "1.  Write a regular expression that matches a date in the format dd/mm/yyyy. For example, the string \"01/01/2021\" should match."
   ]
  },
  {
   "cell_type": "code",
   "execution_count": 3,
   "metadata": {},
   "outputs": [
    {
     "name": "stdout",
     "output_type": "stream",
     "text": [
      "The format its matches the format 01/01/2021 \n"
     ]
    }
   ],
   "source": [
    "import re\n",
    "\n",
    "format = r'\\d{2}/\\d{2}/\\d{4}'\n",
    "\n",
    "date = \"01/01/2021\"\n",
    "\n",
    "if re.match(format, date):\n",
    "    print(f'The format its matches the date {date} ')\n",
    "\n",
    "else:\n",
    "    print(f'The format doesnt matched the date {date}')"
   ]
  },
  {
   "attachments": {},
   "cell_type": "markdown",
   "metadata": {},
   "source": [
    "2. Write a regular expression that matches a phone number in the format xxx-xxx-xxxx, where x is a digit. For example, the string \"123-456-7890\" should match."
   ]
  },
  {
   "cell_type": "code",
   "execution_count": null,
   "metadata": {},
   "outputs": [],
   "source": [
    "import re\n",
    "\n",
    "phone_number_pattern = r'\\d{3}-\\d{3}-\\d{4}'\n",
    "\n",
    "phone_number = \"123-456-7890\"\n",
    "\n",
    "if re.match(phone_number_pattern, phone_number):\n",
    "    print(f\"The phone number '{phone_number}' matches the pattern.\")\n",
    "else:\n",
    "    print(f\"The phone number '{phone_number}' does not match the pattern.\")\n"
   ]
  },
  {
   "attachments": {},
   "cell_type": "markdown",
   "metadata": {},
   "source": [
    "3. Write a regular expression that matches a valid email address. For example, the string \"example@example.com\" should match."
   ]
  },
  {
   "cell_type": "code",
   "execution_count": null,
   "metadata": {},
   "outputs": [],
   "source": [
    "import re\n",
    "\n",
    "email_pattern = r'^[a-zA-Z0-9._%+-]+@[a-zA-Z0-9.-]+\\.[a-zA-Z]{2,}$'\n",
    "\n",
    "email = \"example@example.com\"\n",
    "\n",
    "if re.match(email_pattern, email):\n",
    "    print(f\"The email address '{email}' is valid.\")\n",
    "else:\n",
    "    print(f\"The email address '{email}' is not valid.\")\n"
   ]
  },
  {
   "attachments": {},
   "cell_type": "markdown",
   "metadata": {},
   "source": [
    "4. Write a regular expression that matches a string that starts with a word, followed by one or more whitespace characters, followed by another word. For example, the string \"hello world\" should match."
   ]
  },
  {
   "cell_type": "code",
   "execution_count": null,
   "metadata": {},
   "outputs": [],
   "source": [
    "import re\n",
    "\n",
    "pattern = r'\\b\\w+\\s+\\w+\\b'\n",
    "\n",
    "test_string = \"hello world\"\n",
    "\n",
    "if re.match(pattern, test_string):\n",
    "    print(f\"The string '{test_string}' matches the pattern.\")\n",
    "else:\n",
    "    print(f\"The string '{test_string}' does not match the pattern.\")\n"
   ]
  },
  {
   "attachments": {},
   "cell_type": "markdown",
   "metadata": {},
   "source": [
    "5. Write a regular expression that matches a string that contains a number with exactly two decimal places. For example, the string \"1.23\" should match, but the string \"1.234\" should not match."
   ]
  },
  {
   "cell_type": "code",
   "execution_count": null,
   "metadata": {},
   "outputs": [],
   "source": [
    "import re\n",
    "\n",
    "pattern = r'^\\d+\\.\\d{2}$'\n",
    "\n",
    "test_string1 = \"1.23\"\n",
    "test_string2 = \"1.234\"\n",
    "\n",
    "if re.match(pattern, test_string1):\n",
    "    print(f\"The string '{test_string1}' matches the pattern.\")\n",
    "else:\n",
    "    print(f\"The string '{test_string1}' does not match the pattern.\")\n",
    "\n",
    "if re.match(pattern, test_string2):\n",
    "    print(f\"The string '{test_string2}' matches the pattern.\")\n",
    "else:\n",
    "    print(f\"The string '{test_string2}' does not match the pattern.\")\n"
   ]
  }
 ],
 "metadata": {
  "kernelspec": {
   "display_name": "Python 3",
   "language": "python",
   "name": "python3"
  },
  "language_info": {
   "codemirror_mode": {
    "name": "ipython",
    "version": 3
   },
   "file_extension": ".py",
   "mimetype": "text/x-python",
   "name": "python",
   "nbconvert_exporter": "python",
   "pygments_lexer": "ipython3",
   "version": "3.10.11"
  },
  "orig_nbformat": 4,
  "vscode": {
   "interpreter": {
    "hash": "f7a5be651532581cb44625d52e18aa1d390cab54bc6b51099d8c30bea9b68219"
   }
  }
 },
 "nbformat": 4,
 "nbformat_minor": 2
}

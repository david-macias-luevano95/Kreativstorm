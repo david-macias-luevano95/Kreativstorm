{
 "cells": [
  {
   "attachments": {},
   "cell_type": "markdown",
   "metadata": {},
   "source": [
    "1. Write a program that prompts the user for a string and checks whether the string is a palindrome (i.e., the string reads the same forward and backward)."
   ]
  },
  {
   "cell_type": "code",
   "execution_count": 1,
   "metadata": {},
   "outputs": [
    {
     "name": "stdout",
     "output_type": "stream",
     "text": [
      "String isnt palindrome\n"
     ]
    }
   ],
   "source": [
    "\n",
    "def main():\n",
    "    value = input('Give my a string')\n",
    "    \n",
    "    if value == value[::-1]:\n",
    "        print('string is palindrome')\n",
    "    else:\n",
    "        print('String isnt palindrome')\n",
    "\n",
    "main()\n",
    "\n",
    "    \n",
    "    "
   ]
  },
  {
   "attachments": {},
   "cell_type": "markdown",
   "metadata": {},
   "source": [
    "2. Write a program that takes in a list of integers and returns the sum of all even numbers in the list."
   ]
  },
  {
   "cell_type": "code",
   "execution_count": 11,
   "metadata": {},
   "outputs": [
    {
     "name": "stdout",
     "output_type": "stream",
     "text": [
      "result for sum of numbers:  2\n"
     ]
    }
   ],
   "source": [
    "def even_number(numbers):\n",
    "    evencount = 0\n",
    "    for i in numbers:\n",
    "        if i % 2==0:\n",
    "            evencount =+ i\n",
    "\n",
    "    \n",
    "    return evencount\n",
    "    \n",
    "list_of_integers = [1,2,3,4,5,66,64,2]\n",
    "\n",
    "result = even_number(list_of_integers)\n",
    "\n",
    "print( \"result for sum of numbers: \", result )\n",
    "\n",
    "    "
   ]
  },
  {
   "attachments": {},
   "cell_type": "markdown",
   "metadata": {},
   "source": [
    "3. Write a program that prompts the user for their age and checks whether they are old enough to vote (i.e., 18 years old or older)."
   ]
  },
  {
   "cell_type": "code",
   "execution_count": 10,
   "metadata": {},
   "outputs": [
    {
     "name": "stdout",
     "output_type": "stream",
     "text": [
      "You do not have the correct age for Vote\n"
     ]
    }
   ],
   "source": [
    "age = int(input(\"Put your age for verification\"))\n",
    "\n",
    "if age >= 18:\n",
    "    print(\"You have the correct age for Vote\")\n",
    "else:\n",
    "    print(\"You do not have the correct age for Vote\")\n",
    "    \n"
   ]
  },
  {
   "attachments": {},
   "cell_type": "markdown",
   "metadata": {},
   "source": [
    "4. Write a program that takes in a list of integers and returns the largest number in the list that is also divisible by 3."
   ]
  },
  {
   "cell_type": "code",
   "execution_count": 11,
   "metadata": {},
   "outputs": [
    {
     "name": "stdout",
     "output_type": "stream",
     "text": [
      "33\n"
     ]
    }
   ],
   "source": [
    "int_lit=[2,3,4,5,6,77,88,776,33,55]\n",
    "soted_list = sorted(int_lit, reverse=True)\n",
    "\n",
    "\n",
    "for i in soted_list:\n",
    "    if i % 3 == 0:\n",
    "        print(i)\n",
    "        break \n",
    "        \n"
   ]
  },
  {
   "attachments": {},
   "cell_type": "markdown",
   "metadata": {},
   "source": [
    "5. Write a program that prompts the user for a number and checks whether the number is a prime number (i.e., only divisible by 1 and itself)."
   ]
  },
  {
   "cell_type": "code",
   "execution_count": null,
   "metadata": {},
   "outputs": [],
   "source": [
    "number =int(input(\"Write a number bettwen 1 and 10000\"))\n",
    "\n",
    "for i in range(1, number):\n",
    "    if i % 1 and i % i ==0:\n",
    "        print(\"It's a prime number \")\n",
    "    else:\n",
    "        print(\"It isn't a prime number\")\n",
    "\n",
    "\n"
   ]
  }
 ],
 "metadata": {
  "kernelspec": {
   "display_name": "Python 3",
   "language": "python",
   "name": "python3"
  },
  "language_info": {
   "codemirror_mode": {
    "name": "ipython",
    "version": 3
   },
   "file_extension": ".py",
   "mimetype": "text/x-python",
   "name": "python",
   "nbconvert_exporter": "python",
   "pygments_lexer": "ipython3",
   "version": "3.10.11"
  },
  "orig_nbformat": 4,
  "vscode": {
   "interpreter": {
    "hash": "f7a5be651532581cb44625d52e18aa1d390cab54bc6b51099d8c30bea9b68219"
   }
  }
 },
 "nbformat": 4,
 "nbformat_minor": 2
}
